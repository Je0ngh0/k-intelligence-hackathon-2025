{
 "cells": [
  {
   "cell_type": "code",
   "execution_count": 1,
   "id": "61414a89",
   "metadata": {},
   "outputs": [
    {
     "name": "stdout",
     "output_type": "stream",
     "text": [
      "hi\n"
     ]
    }
   ],
   "source": [
    "print(\"hi\")"
   ]
  },
  {
   "cell_type": "code",
   "execution_count": 2,
   "id": "3f86bfe4",
   "metadata": {},
   "outputs": [],
   "source": [
    "from openai import OpenAI\n",
    "\n",
    "# Modify OpenAI's API key and API base to use vLLM's API server.\n",
    "openai_api_key = \"EMPTY\"\n",
    "openai_api_base = \"http://localhost:8000/v1\"\n",
    "\n",
    "client = OpenAI(\n",
    "    # defaults to os.environ.get(\"OPENAI_API_KEY\")\n",
    "    api_key=openai_api_key,\n",
    "    base_url=openai_api_base,\n",
    ")\n",
    "\n",
    "models = client.models.list()\n",
    "model = models.data[0].id"
   ]
  },
  {
   "cell_type": "code",
   "execution_count": 4,
   "id": "ea59b9c6",
   "metadata": {},
   "outputs": [
    {
     "name": "stdout",
     "output_type": "stream",
     "text": [
      "하늘이 파란색으로 보이는 이유는 빛의 산란 현상 때문입니다. 태양에서 오는 빛은 여러 가지 색(빨강, 주황, 노랑, 초록, 파랑, 남색, 보라 등)으로 이루어져 있는데, 이 빛이 지구의 대기를 통과할 때 공기 중의 작은 입자들(주로 질소와 산소 분자)과 충돌하면서 산란됩니다.\n",
      "\n",
      "이때 파란색 빛은 파장이 짧아서 다른 색보다 더 많이 산란됩니다. 그래서 우리가 하늘을 올려다보면, 파란색 빛이 사방으로 퍼져 우리 눈에 가장 많이 들어오게 되고, 그래서 하늘이 파랗게 보이는 것입니다.\n",
      "\n",
      "이 현상을 ‘레일리 산란(Rayleigh scattering)’이라고도 합니다. 낮에는 태양이 머리 위에 있어서 파란색 빛이 더 강하게 산란되어 하늘이 파랗게 보이고, 해가 뜨거나 질 때는 태양빛이 대기를 비스듬히 지나가면서 더 긴 파장의 빛(주황, 빨강 등)이 더 많이 산란되어 하늘이 붉게 보이기도 합니다.\n",
      "\n",
      "즉, 간단히 말하면 \"파란색 빛이 더 많이 산란되기 때문\"입니다!\n"
     ]
    }
   ],
   "source": [
    "response = client.responses.create(\n",
    "    model=model,\n",
    "    input=\"하늘이 파란색인 이유가 뭐지?\"\n",
    ")\n",
    "\n",
    "print(response.output_text)"
   ]
  },
  {
   "cell_type": "code",
   "execution_count": 5,
   "id": "da33271b",
   "metadata": {},
   "outputs": [
    {
     "name": "stdout",
     "output_type": "stream",
     "text": [
      "노을이 붉은색으로 보이는 이유는 빛의 산란 현상 때문입니다. 해가 지평선 가까이로 내려갈 때, 태양빛은 대기를 더 긴 거리로 통과해야 합니다. 이때 빛이 대기 중의 먼지, 수증기, 가스 등 작은 입자들과 부딪히면서 여러 방향으로 흩어지는데, 이를 ‘산란’이라고 합니다.\n",
      "\n",
      "특히, 햇빛에는 여러 가지 색의 빛(빨강, 주황, 노랑, 초록, 파랑 등)이 섞여 있는데, 파장이 짧은 파란색 빛은 산란이 더 많이 일어납니다. 그래서 낮에 하늘이 파랗게 보이는 것이죠. 반면, 파장이 긴 빨간색 빛은 산란이 덜 되고, 상대적으로 덜 흩어집니다.\n",
      "\n",
      "해가 질 무렵에는 태양빛이 대기를 통과하는 거리가 길어지기 때문에, 파란색 빛은 대부분 산란되어 사라지고, 상대적으로 덜 산란되는 붉은색, 주황색 빛이 우리 눈에 더 많이 도달하게 됩니다. 그래서 노을이 붉거나 주황빛으로 보이게 되는 것입니다.\n",
      "\n",
      "정리하자면, 노을이 붉은색인 이유는 대기 중에서 파장이 짧은 파란빛은 많이 산란되고, 파장이 긴 빨간빛은 덜 산란되어 우리 눈에 더 많이 들어오기 때문입니다.\n"
     ]
    }
   ],
   "source": [
    "response = client.responses.create(\n",
    "    model=model,\n",
    "    input=\"노을이 붉은색인 이유가 뭐지?\"\n",
    ")\n",
    "\n",
    "print(response.output_text)"
   ]
  }
 ],
 "metadata": {
  "kernelspec": {
   "display_name": "k-intelligence-hackathon-2025",
   "language": "python",
   "name": "python3"
  },
  "language_info": {
   "codemirror_mode": {
    "name": "ipython",
    "version": 3
   },
   "file_extension": ".py",
   "mimetype": "text/x-python",
   "name": "python",
   "nbconvert_exporter": "python",
   "pygments_lexer": "ipython3",
   "version": "3.12.11"
  }
 },
 "nbformat": 4,
 "nbformat_minor": 5
}
